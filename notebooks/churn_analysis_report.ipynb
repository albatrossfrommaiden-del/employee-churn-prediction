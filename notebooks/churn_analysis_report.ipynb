{
  "cells": [
    {
      "cell_type": "markdown",
      "metadata": {},
      "source": [
        "# Churn Analysis Report\n\nThis notebook contains the EDA and modeling steps. Charts are saved in `outputs/charts/`."
      ]
    },
    {
      "cell_type": "code",
      "metadata": {},
      "source": [
        "# Load cleaned data\nimport pandas as pd\ndf = pd.read_csv('data/employee_churn_clean.csv')\ndf.head()"
      ],
      "outputs": [],
      "execution_count": null
    },
    {
      "cell_type": "markdown",
      "metadata": {},
      "source": [
        "## Display charts\nBelow are saved charts from the EDA and model evaluation."
      ]
    },
    {
      "cell_type": "code",
      "metadata": {},
      "source": [
        "from IPython.display import Image, display\nimport os\ncharts = os.listdir('outputs/charts')\nfor c in charts:\n    display(Image(filename=os.path.join('outputs/charts', c)))"
      ],
      "outputs": [],
      "execution_count": null
    }
  ],
  "metadata": {
    "kernelspec": {
      "display_name": "Python 3",
      "language": "python",
      "name": "python3"
    },
    "language_info": {
      "name": "python"
    }
  },
  "nbformat": 4,
  "nbformat_minor": 5
}